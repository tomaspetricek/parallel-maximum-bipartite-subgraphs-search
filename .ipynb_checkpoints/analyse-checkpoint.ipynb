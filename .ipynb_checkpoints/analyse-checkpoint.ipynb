{
 "cells": [
  {
   "cell_type": "markdown",
   "metadata": {},
   "source": [
    "# Results Analysis"
   ]
  },
  {
   "cell_type": "code",
   "execution_count": 1,
   "metadata": {},
   "outputs": [],
   "source": [
    "import pandas as pd\n",
    "import numpy as np\n",
    "import matplotlib.pyplot as plt\n",
    "import seaborn as sns\n",
    "\n",
    "import os"
   ]
  },
  {
   "cell_type": "code",
   "execution_count": 2,
   "metadata": {},
   "outputs": [],
   "source": [
    "results_dir = \"results\""
   ]
  },
  {
   "cell_type": "code",
   "execution_count": 3,
   "metadata": {},
   "outputs": [],
   "source": [
    "selected_graphs = [\"16-6.txt\", \"18-5.txt\", \"32-3.txt\", \"25-4.txt\", \"20-5.txt\"]"
   ]
  },
  {
   "cell_type": "markdown",
   "metadata": {},
   "source": [
    "## Sequential"
   ]
  },
  {
   "cell_type": "code",
   "execution_count": 4,
   "metadata": {},
   "outputs": [
    {
     "data": {
      "text/html": [
       "<div>\n",
       "<style scoped>\n",
       "    .dataframe tbody tr th:only-of-type {\n",
       "        vertical-align: middle;\n",
       "    }\n",
       "\n",
       "    .dataframe tbody tr th {\n",
       "        vertical-align: top;\n",
       "    }\n",
       "\n",
       "    .dataframe thead th {\n",
       "        text-align: right;\n",
       "    }\n",
       "</style>\n",
       "<table border=\"1\" class=\"dataframe\">\n",
       "  <thead>\n",
       "    <tr style=\"text-align: right;\">\n",
       "      <th></th>\n",
       "      <th>filename</th>\n",
       "      <th>n vertices</th>\n",
       "      <th>n edges</th>\n",
       "      <th>time[s]</th>\n",
       "    </tr>\n",
       "  </thead>\n",
       "  <tbody>\n",
       "    <tr>\n",
       "      <th>0</th>\n",
       "      <td>16-6.txt</td>\n",
       "      <td>16</td>\n",
       "      <td>48</td>\n",
       "      <td>406.913</td>\n",
       "    </tr>\n",
       "    <tr>\n",
       "      <th>1</th>\n",
       "      <td>18-5.txt</td>\n",
       "      <td>18</td>\n",
       "      <td>45</td>\n",
       "      <td>286.398</td>\n",
       "    </tr>\n",
       "    <tr>\n",
       "      <th>2</th>\n",
       "      <td>32-3.txt</td>\n",
       "      <td>32</td>\n",
       "      <td>48</td>\n",
       "      <td>286.727</td>\n",
       "    </tr>\n",
       "    <tr>\n",
       "      <th>3</th>\n",
       "      <td>25-4.txt</td>\n",
       "      <td>25</td>\n",
       "      <td>50</td>\n",
       "      <td>283.381</td>\n",
       "    </tr>\n",
       "    <tr>\n",
       "      <th>4</th>\n",
       "      <td>20-5.txt</td>\n",
       "      <td>20</td>\n",
       "      <td>50</td>\n",
       "      <td>273.753</td>\n",
       "    </tr>\n",
       "  </tbody>\n",
       "</table>\n",
       "</div>"
      ],
      "text/plain": [
       "   filename  n vertices  n edges  time[s]\n",
       "0  16-6.txt          16       48  406.913\n",
       "1  18-5.txt          18       45  286.398\n",
       "2  32-3.txt          32       48  286.727\n",
       "3  25-4.txt          25       50  283.381\n",
       "4  20-5.txt          20       50  273.753"
      ]
     },
     "metadata": {},
     "output_type": "display_data"
    }
   ],
   "source": [
    "seq_filename = \"seq-res.csv\"\n",
    "path = os.path.join(results_dir, seq_filename)\n",
    "\n",
    "seq_df = pd.read_csv(path)\n",
    "seq_df = seq_df.loc[seq_df['filename'].isin(selected_graphs)]\n",
    "display(seq_df)"
   ]
  },
  {
   "cell_type": "code",
   "execution_count": 5,
   "metadata": {},
   "outputs": [
    {
     "data": {
      "image/png": "[encoded data removed]",
      "text/plain": [
       "<Figure size 432x288 with 1 Axes>"
      ]
     },
     "metadata": {
      "needs_background": "light"
     },
     "output_type": "display_data"
    }
   ],
   "source": [
    "fig, ax = plt.subplots()\n",
    "bar = sns.barplot(x=\"filename\", y=\"time[s]\", data=seq_df, ax=ax)\n",
    "bar.set(xlabel=\"Název souboru grafu\", ylabel=\"Doba výpočtu\")\n",
    "\n",
    "# add top bar labels\n",
    "duration = [\"{:.2f}\".format(dur) for dur in list(seq_df[\"time[s]\"])]\n",
    "_ = ax.bar_label(bar.containers[0], duration)\n",
    "\n",
    "fig.tight_layout()"
   ]
  },
  {
   "cell_type": "code",
   "execution_count": null,
   "metadata": {},
   "outputs": [],
   "source": []
  }
 ],
 "metadata": {
  "kernelspec": {
   "display_name": "Python 3",
   "language": "python",
   "name": "python3"
  },
  "language_info": {
   "codemirror_mode": {
    "name": "ipython",
    "version": 3
   },
   "file_extension": ".py",
   "mimetype": "text/x-python",
   "name": "python",
   "nbconvert_exporter": "python",
   "pygments_lexer": "ipython3",
   "version": "3.8.3"
  }
 },
 "nbformat": 4,
 "nbformat_minor": 4
}
